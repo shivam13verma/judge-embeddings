{
 "cells": [
  {
   "cell_type": "code",
   "execution_count": 7,
   "metadata": {
    "collapsed": true
   },
   "outputs": [],
   "source": [
    "import numpy as np"
   ]
  },
  {
   "cell_type": "code",
   "execution_count": 8,
   "metadata": {
    "collapsed": true
   },
   "outputs": [],
   "source": [
    "import pandas as pd"
   ]
  },
  {
   "cell_type": "code",
   "execution_count": 29,
   "metadata": {
    "collapsed": true
   },
   "outputs": [],
   "source": [
    "import os, sys"
   ]
  },
  {
   "cell_type": "code",
   "execution_count": 28,
   "metadata": {
    "collapsed": false
   },
   "outputs": [
    {
     "name": "stdout",
     "output_type": "stream",
     "text": [
      "/home/sv1239/chen\r\n"
     ]
    }
   ],
   "source": [
    "!pwd"
   ]
  },
  {
   "cell_type": "code",
   "execution_count": 22,
   "metadata": {
    "collapsed": false
   },
   "outputs": [
    {
     "name": "stdout",
     "output_type": "stream",
     "text": [
      "Archive.zip\r\n"
     ]
    }
   ],
   "source": [
    "!ls /scratch/sv1239/projects/chen/raw/"
   ]
  },
  {
   "cell_type": "code",
   "execution_count": 37,
   "metadata": {
    "collapsed": false
   },
   "outputs": [
    {
     "data": {
      "text/plain": [
       "['1881_complete',\n",
       " '1886_complete',\n",
       " '1889_complete',\n",
       " '1890_complete',\n",
       " '1880_complete',\n",
       " '1888_complete',\n",
       " '1887_complete',\n",
       " '1884_complete',\n",
       " '1883_complete',\n",
       " '.ipynb_checkpoints',\n",
       " '1885_complete',\n",
       " 'Untitled.ipynb',\n",
       " '1882_complete']"
      ]
     },
     "execution_count": 37,
     "metadata": {},
     "output_type": "execute_result"
    }
   ],
   "source": [
    "[folder for folder in os.listdir(folder_path)]"
   ]
  },
  {
   "cell_type": "code",
   "execution_count": 108,
   "metadata": {
    "collapsed": true
   },
   "outputs": [],
   "source": [
    "def read_data(folder_path):\n",
    "    corpus = \"\"\n",
    "    for folder in os.listdir(folder_path):\n",
    "        for file_name in os.listdir(folder_path+\"/\"+folder+\"/\"):\n",
    "            if \".txt\" in file_name:\n",
    "                with open(folder_path+folder+\"/\"+file_name, 'r') as f:\n",
    "                    corpus+=f.read()\n",
    "        \n",
    "    print corpus[:10]\n",
    "    return corpus"
   ]
  },
  {
   "cell_type": "code",
   "execution_count": 109,
   "metadata": {
    "collapsed": false
   },
   "outputs": [
    {
     "name": "stdout",
     "output_type": "stream",
     "text": [
      "\n",
      " ACHESON,\n",
      "CPU times: user 439 ms, sys: 4.08 s, total: 4.52 s\n",
      "Wall time: 6.21 s\n"
     ]
    }
   ],
   "source": [
    "%%time\n",
    "\n",
    "folder_path = \"/scratch/sv1239/projects/chen/raw/\"\n",
    "# os.chdir(folder_path)\n",
    "\n",
    "corpus = read_data(folder_path)"
   ]
  },
  {
   "cell_type": "code",
   "execution_count": 110,
   "metadata": {
    "collapsed": false
   },
   "outputs": [
    {
     "data": {
      "text/plain": [
       "94087200"
      ]
     },
     "execution_count": 110,
     "metadata": {},
     "output_type": "execute_result"
    }
   ],
   "source": [
    "len(corpus)"
   ]
  },
  {
   "cell_type": "code",
   "execution_count": 121,
   "metadata": {
    "collapsed": false
   },
   "outputs": [
    {
     "data": {
      "text/plain": [
       "'\\n ACHESON, J. This is a suit by the Torpedo Company, a corporation of the state of Delaware doing business in the state of Pennsylvania, against the incorporated borough of Clarendon, in Warren county, in the latter state, to restrain the enforcement against the plaintiff of an ordinance of the borough, enacted April 24, 1882, which declares it to be unlawful for any person to \"store, house, convey, carry, or have in his or her possession,\" within the borough limits, any nitro-glycerine, (except enough to \"shoot\" any oil well in the borough, on payment of a license fee of $10,) under a penalty of not less than $50, nor more than $100, for each offense, upon conviction before the burgess or a justice of the peace. The proper operation of oil wells, it seems, requires that torpedoes containing nitro-glycerine be exploded from time to time in the wells. The plaintiff has established works for the manufacture of nitro-glycerine in the county of Warren, nine miles from Clarendon, and on the'"
      ]
     },
     "execution_count": 121,
     "metadata": {},
     "output_type": "execute_result"
    }
   ],
   "source": [
    "corpus[:1000]"
   ]
  },
  {
   "cell_type": "code",
   "execution_count": 112,
   "metadata": {
    "collapsed": true
   },
   "outputs": [],
   "source": [
    "import string, re"
   ]
  },
  {
   "cell_type": "code",
   "execution_count": 128,
   "metadata": {
    "collapsed": false
   },
   "outputs": [],
   "source": [
    "text = corpus.translate(None, string.punctuation).replace(\"\\n\", \" \") #remove punctuations, \\n's\n",
    "text = re.sub(r'[^\\x00-\\x7F]+',' ', text) #remove non-ASCII chars\n",
    "text = re.sub( '\\s+', ' ', text).lstrip().rstrip() #remove extra and trailing spaces"
   ]
  },
  {
   "cell_type": "code",
   "execution_count": 129,
   "metadata": {
    "collapsed": false
   },
   "outputs": [
    {
     "data": {
      "text/plain": [
       "'ACHESON J This is a suit by the Torpedo Company a corporation of the state of Delaware doing business in the state of Pennsylvania against the incorporated borough of Clarendon in Warren county in the latter state to restrain the enforcement against the plaintiff of an ordinance of the borough enacted April 24 1882 which declares it to be unlawful for any person to store house convey carry or have in his or her possession within the borough limits any nitroglycerine except enough to shoot any oil well in the borough on payment of a license fee of 10 under a penalty of not less than 50 nor more than 100 for each offense upon conviction before the burgess or a justice of the peace The proper operation of oil wells it seems requires that torpedoes containing nitroglycerine be exploded from time to time in the wells The plaintiff has established works for the manufacture of nitroglycerine in the county of Warren nine miles from Clarendon and on the opposite side of the borough there has been located a magazine of one of its customers for the storage of nitroglycerine for the supply of the trade in the oil territory known as the Clarendon field lying in and about the borough The plaintiff alleges that to reach this magazine with supplies of nitroglycerine it is necessary to traverse certain highways within the borough limits but which do not pass through the thicklysettled portions of the town To insure safety in transportation the plaintiff has observed commendable care in providing wagons constructed specially for the purpose with appliances well adapted to reduce the danger of explosion to the minimum and it is alleged by the plaintiff that these precautions secure the public from all risk The plaintiff began business after the passage of the ordinance and the magazine was located so late as May or June 1883 Employes of the plaintiff have been twice arrested and fines imposed for violations of the ordinance but these judicial proceedings have been removed into the proper court of Warren county and are there now depending The plaintiff claiming that the regulation in question is unreasonable and oppressive abridging its legal right to use the public highways of the borough and injuring its business and that the ordinance is without legislative warrant and void prays the court for an injunction to restrain the borough from enforcing the same against the plaintiff and from arresting its employes or bringing or prosecuting any action civil or criminal against them for a violation thereof 233 The affidavit in behalf of the defendant in opposition to the allowance of the present motion sets forth facts in vindication of the ordinance as wise and reasonable and controverts some of the material allegations of the bill But were it clear that the ordinance is void is this a case for equitable relief Undoubtedly courts of equity often interdict the unlawful exercise by municipal corporations of their powers and possibly cases of such peculiar hardship from the enforcement of a void ordinance in restraint of trade might arise that a court of equity would feel moved to interpose by injunction even before its illegality had been established at law But such cases would be exceptional Dill Mun Corp 727 Ewing v City of St Louis 5 Wall 413 High Inj 1242 1244 The ordinary remedy for an injury from the operation of an unlawful municipal ordinance is by an action at law for complete redress in damages is generally thus attainable The learned counsel for the plaintiff rely on Butlers Appeal 73 Pa St 448 But it is not an authority it seems to me for the proposition that an injunction is a proper remedy for the injury of which the plaintiff complains That was a case of a clearly illegal exercise by city councils of the taxing power I have been referred to no precedent nor have I been able to find any where a court of equity in such a case as the present has granted the relief the plaintiff seeks But in several analogous cases such redress has been denied and the aggrieved party turned over to his legal remedies Burnett v Craig 30 Ala 135 Gaertner v City of Fond du Lac 34 Wis 497 Cohen v Goldsboro 77 N C 2 Brown v Catlettsburg 11 Bush 435 Here the plaintiffs legal remedies are I think ample One of these has already been invoked for by certiorari or appeal the proceedings against the plaintiffs employes for violation of the ordinance have been removed into the proper state court and are there pending It does not appear to me that the plaintiff is likely to sustain any injury which may not be fully and adequately compensated by an action for damages should it be adjudged that the ordinance is invalid The motion for an injunction is denied BUNN J This is an action of ejectment brought by the plaintiff a citizen of Minnesota against the defendant a citizen of Kansas 501 to recover certain village lots situate in Austrians addition to the village of Ashland in Ashland county Wisconsin It is stipulated that the plaintiff shows a complete title to the lots in question subject to the defendants defense who claims to hold the same by virtue of certain tax deeds issued to the county of Ashland under a sale of said lots for the general state county and town taxes for the years 1873 1875 and 1876 levied by the town of Ashland in said county It also appears that the tax deeds under which the defendant holds are fair and valid upon their face and that the statute of limitations provided by the laws of Wisconsin for bringing ejectment to recover the lands had run upon the deeds prior to the commencement of the action on September 22 1883 The plaintiff to avoid the tax deeds under which the defendant claims title attacks the organization of the town of Ashland alleging such organization to be invalid and that there was consequently no authority for levying the taxes The evidence bearing upon this issue is contained in the stipulation of the parties on file presenting among other things a copy of the record of the board of county supervisors of Ashland appertaining to the setting off and organization of said town by such board By this record it appears that the first action of the board was taken on May 27 1872 I quote such parts of the record as bear upon this question MAY27 1872 At a special meeting of the county board of supervisors of Ashland county held this twentyseventh day of May 1872 for the purpose of organizing the new board lately elected in April last and also for to decide and take into consideration the application of the settlers or citizens of the newlysettled portion of the town of La Pointe now residing in Ashland and its additions for to set off as a separate town organization to be called the town of Ashland in the county of Ashland in the state of Wisconsin the whole of the members of the new board being present viz John W Bell etc naming all the members of the board the clerk lately elected being absent Mr Le Montferand and Joseph Reille were appointed by the board as clerks of the meeting to record their proceedings and decisions of the meeting which were as follows That after due consultation it is mutually understood ordered and decreed that the following described boundaries are hereby by the action of this board set off as a separate town to be called the town of Ashland and that the legal voters residing upon the lands hereby set off are hereby authorized to hold a first election to elect their respective officers on the twentyseventh day of June for the town of Ashland after publishing the necessary notices according to the nowexisting laws namely within the limited boundaries Bounded on the south by the south line of town fortysix 46 on the east by the Indian reservation on the west by Bayfield county line and on the north by the northern line of township No fortyeight 48 JUNE10 1872 At a special meeting of the county board held this tenth day of June 1872 for the purpose of reconsidering the action of the board on the twentyseventh day of May last in relation to the setting off and organizing the town of Ashland the board being all present Mr Le Montferand was appointed clerkpro temfor the purpose of recording the proceedings of this meeting It appearing to the board that they have not set off sufficient territory to create 502 or raise a sufficient revenue to support said organization and make the necessary improvements etc requisite in a new town it is hereby ordered and decreed that the following townships be added to and annexed to the decree of the twentyseventh day of May last for the purpose therein mentioned namely townships numbered fortyfive and fortyfour of range four west and that the election of the town officers be held at the store of James Wilson in the town of Ashland on the twentyfourth day of June 1872 in accordance with the decree of May 27 1872 JULY2 1872 At a special meeting of the county board of supervisors of Ashland county held on the second day of July A D 1872 John W Bell chairman John Stewart supervisor and Joseph Reille clerk of the board being present and the meeting being duly organized after due consideration it was ordered and decreed that the following described territory be set off as a new town to be named the town of Ashland viz Townships 44 45 and 47 in range 4 also fractional township 48 in range 4 in Ashland county and that the legal voters therein are hereby authorized and empowered to hold an election at the office of J M Matthews in the town of Ashland on the thirteenth day of July 1872 for the purpose of electing the respective town officers requisite for a full town organization said meeting to be held in accordance with the nowexisting laws in regard to town organization The action of the board this day takes precedence of all prior actions in relation thereto There are no further proceedings touching the organization of the town until the annual meeting held November 10 1874 On that day the following was had The petition for the readjustment of the boundaries of the respect'"
      ]
     },
     "execution_count": 129,
     "metadata": {},
     "output_type": "execute_result"
    }
   ],
   "source": [
    "text[:10000]"
   ]
  },
  {
   "cell_type": "code",
   "execution_count": 135,
   "metadata": {
    "collapsed": false
   },
   "outputs": [
    {
     "data": {
      "text/plain": [
       "16490758"
      ]
     },
     "execution_count": 135,
     "metadata": {},
     "output_type": "execute_result"
    }
   ],
   "source": [
    "len(text.split())"
   ]
  },
  {
   "cell_type": "code",
   "execution_count": 130,
   "metadata": {
    "collapsed": true
   },
   "outputs": [],
   "source": [
    "with open('circuit_corpus_1880_1890.txt', 'w') as f:\n",
    "    f.write(text)"
   ]
  },
  {
   "cell_type": "code",
   "execution_count": 134,
   "metadata": {
    "collapsed": false
   },
   "outputs": [
    {
     "name": "stdout",
     "output_type": "stream",
     "text": [
      "16490758 circuit_corpus_1880_1890.txt\r\n"
     ]
    }
   ],
   "source": [
    "!wc -w circuit_corpus_1880_1890.txt"
   ]
  },
  {
   "cell_type": "markdown",
   "metadata": {},
   "source": [
    "###TODO\n",
    "\n",
    "- Remove unicode chars - DONE\n",
    "- Replace numericals/dates with NN/NN/NNNN or NN.NNNN etc. - TBD. Check how people typically do it. Can also just remove all numbers.\n",
    "- GloVe vectors for 10 years (1880-1890) - DONE\n",
    "- GloVe vectors for entirety of dataset (~130 years) - TBD\n",
    "- Add bias tests comparing pre-trained and our GloVe vectors - TBD"
   ]
  },
  {
   "cell_type": "markdown",
   "metadata": {},
   "source": [
    "Note:\n",
    "\n",
    "- While above process works for 10 years worth of data (32 MB), it may be a problem for larger datasets (> 100MB), since we are combining all the documents into one single document/string (separated by spaces), and creating a huge text file might lead to OOM issues. Can remedy by increasing memory in HPC (and specify RAM in run.sh below), but also look up how GloVe typically trained on huge corpuses, i.e. can we train in batches?\n",
    "- Once above process (corpus generation) is complete, do the following:\n",
    "- Go to https://github.com/stanfordnlp/GloVe and read the README\n",
    "- Clone the GloVe repo, try running the demo.sh\n",
    "- Copy the corpus file to the glove/ folder, and create a modified version of demo.sh, say, run.sh, which uses this file. Run.sh is provided in this repo.\n",
    "- Modify the params in run.sh accordingly (eg. dimension of vectors, threads etc.)\n",
    "\n"
   ]
  },
  {
   "cell_type": "code",
   "execution_count": null,
   "metadata": {
    "collapsed": true
   },
   "outputs": [],
   "source": []
  }
 ],
 "metadata": {
  "kernelspec": {
   "display_name": "Python 2",
   "language": "python",
   "name": "python2"
  },
  "language_info": {
   "codemirror_mode": {
    "name": "ipython",
    "version": 2
   },
   "file_extension": ".py",
   "mimetype": "text/x-python",
   "name": "python",
   "nbconvert_exporter": "python",
   "pygments_lexer": "ipython2",
   "version": "2.7.6"
  }
 },
 "nbformat": 4,
 "nbformat_minor": 0
}
